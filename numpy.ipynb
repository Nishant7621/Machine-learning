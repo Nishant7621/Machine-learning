{
 "cells": [
  {
   "cell_type": "markdown",
   "id": "787193d5-92c6-4ab4-a1de-b9daaf198cfb",
   "metadata": {},
   "source": [
    "# numpy basic"
   ]
  },
  {
   "cell_type": "code",
   "execution_count": 2,
   "id": "9ca22768-920f-4bd7-a24e-ab777474d8d2",
   "metadata": {},
   "outputs": [],
   "source": [
    "import numpy as np"
   ]
  },
  {
   "cell_type": "code",
   "execution_count": 2,
   "id": "0f9d5601-f2ef-424c-b65d-9a6d3bed4413",
   "metadata": {},
   "outputs": [],
   "source": [
    "import pandas as pd"
   ]
  },
  {
   "cell_type": "code",
   "execution_count": 3,
   "id": "6ebef875-17d6-4b71-a114-d2d5253c6a49",
   "metadata": {},
   "outputs": [],
   "source": [
    "one = np.array([1,2,90,4])"
   ]
  },
  {
   "cell_type": "code",
   "execution_count": 4,
   "id": "b76e32d6-f237-47f4-b38d-9f564edc1559",
   "metadata": {},
   "outputs": [
    {
     "data": {
      "text/plain": [
       "np.int64(2)"
      ]
     },
     "execution_count": 4,
     "metadata": {},
     "output_type": "execute_result"
    }
   ],
   "source": [
    "one.argmax()"
   ]
  },
  {
   "cell_type": "code",
   "execution_count": 5,
   "id": "1a9a99d4-6558-4f1f-8850-bca9ac82fd98",
   "metadata": {},
   "outputs": [
    {
     "data": {
      "text/plain": [
       "array([0, 1, 3, 2])"
      ]
     },
     "execution_count": 5,
     "metadata": {},
     "output_type": "execute_result"
    }
   ],
   "source": [
    "one.argsort()               #index dega sorted order me"
   ]
  },
  {
   "cell_type": "code",
   "execution_count": 6,
   "id": "b954a25e-10a6-4588-8009-ad10b62a6493",
   "metadata": {},
   "outputs": [],
   "source": [
    "import numpy.char as char"
   ]
  },
  {
   "cell_type": "code",
   "execution_count": 7,
   "id": "e730fecb-ad1e-41d4-8501-4543601bf300",
   "metadata": {},
   "outputs": [],
   "source": [
    "x=[[1,2,3],[9,7,8],[6,5,4]]"
   ]
  },
  {
   "cell_type": "code",
   "execution_count": 8,
   "id": "caefe86b-840b-4194-b2e1-e0687ea1647c",
   "metadata": {},
   "outputs": [],
   "source": [
    "ar = np.array(x)"
   ]
  },
  {
   "cell_type": "code",
   "execution_count": 9,
   "id": "90f11865-3b93-46f5-b892-751e73ae799f",
   "metadata": {},
   "outputs": [
    {
     "data": {
      "text/plain": [
       "array([[1, 2, 3],\n",
       "       [9, 7, 8],\n",
       "       [6, 5, 4]])"
      ]
     },
     "execution_count": 9,
     "metadata": {},
     "output_type": "execute_result"
    }
   ],
   "source": [
    "ar"
   ]
  },
  {
   "cell_type": "code",
   "execution_count": 10,
   "id": "7cbf7fd7-9903-4a81-81f3-42ded47d4bda",
   "metadata": {},
   "outputs": [
    {
     "data": {
      "text/plain": [
       "array([16, 14, 15])"
      ]
     },
     "execution_count": 10,
     "metadata": {},
     "output_type": "execute_result"
    }
   ],
   "source": [
    "ar.sum(axis=0)"
   ]
  },
  {
   "cell_type": "code",
   "execution_count": 11,
   "id": "0b1bec66-24e9-43fb-8ad7-cb44b8785ca0",
   "metadata": {},
   "outputs": [
    {
     "data": {
      "text/plain": [
       "array([ 6, 24, 15])"
      ]
     },
     "execution_count": 11,
     "metadata": {},
     "output_type": "execute_result"
    }
   ],
   "source": [
    "ar.sum(axis=1)"
   ]
  },
  {
   "cell_type": "code",
   "execution_count": 35,
   "id": "1bced9e8-2b3e-48cd-9497-0d495018c3a2",
   "metadata": {},
   "outputs": [
    {
     "data": {
      "text/plain": [
       "np.int64(0)"
      ]
     },
     "execution_count": 35,
     "metadata": {},
     "output_type": "execute_result"
    }
   ],
   "source": [
    "ar.argmin()"
   ]
  },
  {
   "cell_type": "code",
   "execution_count": 36,
   "id": "29844601-cd51-45e6-93f9-8c6b3ef49e33",
   "metadata": {},
   "outputs": [
    {
     "data": {
      "text/plain": [
       "np.int64(3)"
      ]
     },
     "execution_count": 36,
     "metadata": {},
     "output_type": "execute_result"
    }
   ],
   "source": [
    "ar.argmax()"
   ]
  },
  {
   "cell_type": "code",
   "execution_count": 37,
   "id": "d2db279b-2599-4076-836e-3a33e72e51df",
   "metadata": {},
   "outputs": [
    {
     "data": {
      "text/plain": [
       "array([[0, 1, 2],\n",
       "       [1, 2, 0],\n",
       "       [2, 1, 0]])"
      ]
     },
     "execution_count": 37,
     "metadata": {},
     "output_type": "execute_result"
    }
   ],
   "source": [
    "ar.argsort(axis=1)"
   ]
  },
  {
   "cell_type": "code",
   "execution_count": 14,
   "id": "7b27f293-b7a8-472e-a9f9-3c4aab82cf6d",
   "metadata": {},
   "outputs": [
    {
     "data": {
      "text/plain": [
       "np.int64(45)"
      ]
     },
     "execution_count": 14,
     "metadata": {},
     "output_type": "execute_result"
    }
   ],
   "source": [
    "ar.sum()"
   ]
  },
  {
   "cell_type": "code",
   "execution_count": 15,
   "id": "18f80f9a-d1d0-448c-979f-832524c99ecb",
   "metadata": {},
   "outputs": [
    {
     "data": {
      "text/plain": [
       "array([[1, 2, 3],\n",
       "       [9, 7, 8],\n",
       "       [6, 5, 4]])"
      ]
     },
     "execution_count": 15,
     "metadata": {},
     "output_type": "execute_result"
    }
   ],
   "source": [
    "ar"
   ]
  },
  {
   "cell_type": "code",
   "execution_count": 16,
   "id": "7ac1901a-46e7-438a-9fc4-f27250b719ce",
   "metadata": {},
   "outputs": [],
   "source": [
    "import sys"
   ]
  },
  {
   "cell_type": "code",
   "execution_count": 20,
   "id": "0073e172-bc7b-4c33-8a44-e7b1a3daef5f",
   "metadata": {},
   "outputs": [],
   "source": [
    "py_ar=[0,4,55,2]"
   ]
  },
  {
   "cell_type": "code",
   "execution_count": 22,
   "id": "f5e8d241-b1a5-484c-862c-45b00c117b4c",
   "metadata": {},
   "outputs": [],
   "source": [
    "np_ar=np.array(py_ar)"
   ]
  },
  {
   "cell_type": "code",
   "execution_count": 23,
   "id": "5bebf419-cabf-4f55-af3c-08e358e45f79",
   "metadata": {},
   "outputs": [
    {
     "data": {
      "text/plain": [
       "32"
      ]
     },
     "execution_count": 23,
     "metadata": {},
     "output_type": "execute_result"
    }
   ],
   "source": [
    "np_ar.itemsize * np_ar.size"
   ]
  },
  {
   "cell_type": "markdown",
   "id": "9789eced-4b04-4639-bd31-c2d5f6dadace",
   "metadata": {},
   "source": [
    "# NUMPY"
   ]
  },
  {
   "cell_type": "code",
   "execution_count": 33,
   "id": "253557da-8939-4f68-b391-15c57e29cb74",
   "metadata": {},
   "outputs": [
    {
     "name": "stdin",
     "output_type": "stream",
     "text": [
      "Enter the size of the array:  5\n",
      "Enter element 1:  3\n",
      "Enter element 2:  4\n",
      "Enter element 3:  6\n",
      "Enter element 4:  8\n",
      "Enter element 5:  9\n"
     ]
    },
    {
     "name": "stdout",
     "output_type": "stream",
     "text": [
      "Array: [3, 4, 6, 8, 9]\n"
     ]
    }
   ],
   "source": [
    "array_size = int(input(\"Enter the size of the array: \"))\n",
    "array = [0] * array_size\n",
    "\n",
    "for i in range(array_size):\n",
    "    array[i] = int(input(\"Enter element {}: \".format(i+1)))\n",
    "\n",
    "print(\"Array:\", array)\n",
    "\n"
   ]
  },
  {
   "cell_type": "code",
   "execution_count": 34,
   "id": "0adee9d4-f6e3-4fd6-84fc-fc7e9856f8f3",
   "metadata": {},
   "outputs": [],
   "source": [
    "arr3= np.array([[[1,2,3],[5,6,7],[4,9,8]]])"
   ]
  },
  {
   "cell_type": "code",
   "execution_count": 35,
   "id": "add3bc45-fa6d-47ad-98ca-24fc722973ec",
   "metadata": {},
   "outputs": [
    {
     "data": {
      "text/plain": [
       "array([[[1, 2, 3],\n",
       "        [5, 6, 7],\n",
       "        [4, 9, 8]]])"
      ]
     },
     "execution_count": 35,
     "metadata": {},
     "output_type": "execute_result"
    }
   ],
   "source": [
    "arr3"
   ]
  },
  {
   "cell_type": "code",
   "execution_count": 36,
   "id": "9d786785-447e-4701-942f-3134ece5cb96",
   "metadata": {},
   "outputs": [],
   "source": [
    "var = np.array([\"A\",\"B\",\"C\",\"D\"])\n"
   ]
  },
  {
   "cell_type": "code",
   "execution_count": 37,
   "id": "1c80e83b-33fa-4565-b6e3-591c6647d184",
   "metadata": {},
   "outputs": [
    {
     "data": {
      "text/plain": [
       "dtype('<U1')"
      ]
     },
     "execution_count": 37,
     "metadata": {},
     "output_type": "execute_result"
    }
   ],
   "source": [
    "var.dtype"
   ]
  },
  {
   "cell_type": "markdown",
   "id": "567d6f32-9e7f-4c91-9e91-20d188e1f904",
   "metadata": {},
   "source": [
    "# linespace"
   ]
  },
  {
   "cell_type": "code",
   "execution_count": 6,
   "id": "fb7934e9-2999-41a1-adea-1a7d9a964efd",
   "metadata": {},
   "outputs": [
    {
     "name": "stdout",
     "output_type": "stream",
     "text": [
      "[ 2.  4.  6.  8. 10. 12. 14. 16. 18. 20.]\n"
     ]
    }
   ],
   "source": [
    "# np.linspace(start_value,stop_value,num=50,endpoint=False,dtype=None)\n",
    "A=np.linspace(2,20,10)\n",
    "print(A)"
   ]
  },
  {
   "cell_type": "code",
   "execution_count": null,
   "id": "983f220b-49a6-4a82-a427-e02a95a951cb",
   "metadata": {},
   "outputs": [],
   "source": []
  }
 ],
 "metadata": {
  "kernelspec": {
   "display_name": "Python 3 (ipykernel)",
   "language": "python",
   "name": "python3"
  },
  "language_info": {
   "codemirror_mode": {
    "name": "ipython",
    "version": 3
   },
   "file_extension": ".py",
   "mimetype": "text/x-python",
   "name": "python",
   "nbconvert_exporter": "python",
   "pygments_lexer": "ipython3",
   "version": "3.13.0"
  }
 },
 "nbformat": 4,
 "nbformat_minor": 5
}
